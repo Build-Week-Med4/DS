{
 "cells": [
  {
   "cell_type": "code",
   "execution_count": null,
   "metadata": {},
   "outputs": [],
   "source": [
    "!pip install matplotlib"
   ]
  },
  {
   "cell_type": "code",
   "execution_count": null,
   "metadata": {},
   "outputs": [],
   "source": [
    "!pip install spacy"
   ]
  },
  {
   "cell_type": "code",
   "execution_count": 3,
   "metadata": {},
   "outputs": [
    {
     "name": "stdout",
     "output_type": "stream",
     "text": [
      "\u001b[31mERROR: Could not find a version that satisfies the requirement en_core_web_lg (from versions: none)\u001b[0m\r\n",
      "\u001b[31mERROR: No matching distribution found for en_core_web_lg\u001b[0m\r\n"
     ]
    }
   ],
   "source": []
  },
  {
   "cell_type": "code",
   "execution_count": 4,
   "metadata": {},
   "outputs": [
    {
     "ename": "ImportError",
     "evalue": "cannot import name 'en_core_web_lg' from 'spacy' (/Users/jordancarlisle/opt/anaconda3/lib/python3.7/site-packages/spacy/__init__.py)",
     "output_type": "error",
     "traceback": [
      "\u001b[0;31m---------------------------------------------------------------------------\u001b[0m",
      "\u001b[0;31mImportError\u001b[0m                               Traceback (most recent call last)",
      "\u001b[0;32m<ipython-input-4-ef03d6a99077>\u001b[0m in \u001b[0;36m<module>\u001b[0;34m\u001b[0m\n\u001b[1;32m      8\u001b[0m \u001b[0;32mfrom\u001b[0m \u001b[0mspacy\u001b[0m\u001b[0;34m.\u001b[0m\u001b[0mtokenizer\u001b[0m \u001b[0;32mimport\u001b[0m \u001b[0mTokenizer\u001b[0m\u001b[0;34m\u001b[0m\u001b[0;34m\u001b[0m\u001b[0m\n\u001b[1;32m      9\u001b[0m \u001b[0;32mfrom\u001b[0m \u001b[0msklearn\u001b[0m\u001b[0;34m.\u001b[0m\u001b[0mneighbors\u001b[0m \u001b[0;32mimport\u001b[0m \u001b[0mNearestNeighbors\u001b[0m\u001b[0;34m\u001b[0m\u001b[0;34m\u001b[0m\u001b[0m\n\u001b[0;32m---> 10\u001b[0;31m \u001b[0;32mfrom\u001b[0m \u001b[0mspacy\u001b[0m \u001b[0;32mimport\u001b[0m \u001b[0men_core_web_lg\u001b[0m\u001b[0;34m\u001b[0m\u001b[0;34m\u001b[0m\u001b[0m\n\u001b[0m",
      "\u001b[0;31mImportError\u001b[0m: cannot import name 'en_core_web_lg' from 'spacy' (/Users/jordancarlisle/opt/anaconda3/lib/python3.7/site-packages/spacy/__init__.py)"
     ]
    }
   ],
   "source": [
    "import pandas as pd\n",
    "import re\n",
    "import string\n",
    "import matplotlib.pyplot as plt\n",
    "import numpy as np\n",
    "import spacy\n",
    "from sklearn.feature_extraction.text import CountVectorizer, TfidfVectorizer\n",
    "from spacy.tokenizer import Tokenizer\n",
    "from sklearn.neighbors import NearestNeighbors\n",
    "from spacy import en_core_web_lg"
   ]
  },
  {
   "cell_type": "code",
   "execution_count": null,
   "metadata": {},
   "outputs": [],
   "source": [
    "df = pd.read_csv('medical.csv')\n",
    "df.head()"
   ]
  },
  {
   "cell_type": "code",
   "execution_count": null,
   "metadata": {},
   "outputs": [],
   "source": [
    "def make_into_list(words):\n",
    "    lst = list(words.split(\" \"))\n",
    "    return lst"
   ]
  },
  {
   "cell_type": "code",
   "execution_count": null,
   "metadata": {},
   "outputs": [],
   "source": [
    "df = df.replace('None', np.nan)\n",
    "df = df.dropna().reset_index()"
   ]
  },
  {
   "cell_type": "code",
   "execution_count": null,
   "metadata": {},
   "outputs": [],
   "source": [
    "df['ailments'] = df['alments'].str.replace(',', ' ')\n",
    "\n",
    "\n",
    "df.head()"
   ]
  },
  {
   "cell_type": "code",
   "execution_count": null,
   "metadata": {},
   "outputs": [],
   "source": [
    "print(spacy.__version__)  "
   ]
  },
  {
   "cell_type": "code",
   "execution_count": null,
   "metadata": {},
   "outputs": [],
   "source": [
    "nlp = spacy.load(\"en_core_web_lg\")\n",
    "df.head()\n",
    "\n",
    "# The Tokenizer\n",
    "tokenizer = Tokenizer(nlp.vocab)\n",
    "\n",
    "# Make the tokens for description\n",
    "combined_tokens = []\n",
    "for txt in tokenizer.pipe(df['ailments'], batch_size=500):\n",
    "    txt_tokens = [token.text for token in txt]\n",
    "    combined_tokens.append(txt_tokens)\n",
    "df['combined_tokens'] = combined_tokens\n",
    "print(df['combined_tokens'].head())"
   ]
  },
  {
   "cell_type": "code",
   "execution_count": null,
   "metadata": {},
   "outputs": [],
   "source": [
    "def tokenize(document):\n",
    "    \n",
    "    doc = nlp(document)\n",
    "    \n",
    "    return [token.lemma_.strip() for token in doc if (token.is_stop != True) and (token.is_punct != True)]"
   ]
  },
  {
   "cell_type": "code",
   "execution_count": null,
   "metadata": {},
   "outputs": [],
   "source": [
    "# Instantiate vectorizer object\n",
    "tfidf = TfidfVectorizer(stop_words = 'english',\n",
    "                       ngram_range = (1,2),\n",
    "                       max_features = 2000)\n",
    "\n",
    "# Create a vocabulary and tf-idf score per document\n",
    "dtm = tfidf.fit_transform(df['ailments'])\n",
    "                         \n",
    "\n",
    "# Get feature names to use as dataframe column headers\n",
    "dtm = pd.DataFrame(dtm.todense(), columns=tfidf.get_feature_names())\n",
    "nn = NearestNeighbors(n_neighbors=4, algorithm='kd_tree')\n",
    "nn.fit(dtm)\n",
    "\n",
    "\n",
    "# View Feature Matrix as DataFrame\n",
    "print(dtm.shape)\n",
    "dtm.head()"
   ]
  },
  {
   "cell_type": "code",
   "execution_count": null,
   "metadata": {},
   "outputs": [],
   "source": [
    "dtm.shape"
   ]
  },
  {
   "cell_type": "code",
   "execution_count": null,
   "metadata": {},
   "outputs": [],
   "source": []
  },
  {
   "cell_type": "code",
   "execution_count": null,
   "metadata": {},
   "outputs": [],
   "source": [
    "ideal = [\"\"\"\n",
    "lack-of-appetite,bipolar-disorder,hypertension\n",
    "\"\"\"]\n",
    "\n",
    "# Query the ideal descprition\n",
    "new = tfidf.transform(ideal)\n",
    "new"
   ]
  },
  {
   "cell_type": "code",
   "execution_count": null,
   "metadata": {},
   "outputs": [],
   "source": [
    "nn.kneighbors(new.todense())"
   ]
  },
  {
   "cell_type": "code",
   "execution_count": null,
   "metadata": {},
   "outputs": [],
   "source": [
    "import pickle\n",
    "# Dump the trained classifier (nn)  with Pickle\n",
    "pickle_filename = 'ailments_model.pkl2'\n",
    "pickled_model = open(pickle_filename, 'wb')  # Open the file to save as pkl file\n",
    "pickle.dump(nn, pickled_model)\n",
    "pickled_model.close() # Close the pickle instances"
   ]
  },
  {
   "cell_type": "code",
   "execution_count": null,
   "metadata": {},
   "outputs": [],
   "source": [
    "# Loading the saved model\n",
    "ailments_model_pkl2 = open(pickle_filename, 'rb')\n",
    "ailments_nn_model2 = pickle.load(ailments_model_pkl2)\n",
    "print (\"Loaded model :: \", ailments_nn_model2)  # print to verify"
   ]
  },
  {
   "cell_type": "code",
   "execution_count": null,
   "metadata": {},
   "outputs": [],
   "source": [
    "# Dump the trained classifier (tfidf)  with Pickle\n",
    "pickle_filename_1 = 'ailments_tfidf.pkl2'\n",
    "pickled_model_1 = open(pickle_filename_1, 'wb')  # Open the file to save as pkl file\n",
    "pickle.dump(tfidf, pickled_model_1)\n",
    "pickled_model_1.close() # Close the pickle instances"
   ]
  },
  {
   "cell_type": "code",
   "execution_count": null,
   "metadata": {},
   "outputs": [],
   "source": [
    "# Loading the saved model\n",
    "ailments_model_pkl_1 = open(pickle_filename_1, 'rb')\n",
    "ailments_tfidf_model2 = pickle.load(ailments_model_pkl_1)\n",
    "print (\"Loaded model :: \", ailments_tfidf_model2)  # print to verify"
   ]
  },
  {
   "cell_type": "code",
   "execution_count": null,
   "metadata": {},
   "outputs": [],
   "source": [
    "df['combined_tokens'].sample(10)"
   ]
  },
  {
   "cell_type": "code",
   "execution_count": null,
   "metadata": {},
   "outputs": [],
   "source": [
    "ideal2 = ['anorexia,muscular-dystropy,insomnia,add-adhd']"
   ]
  },
  {
   "cell_type": "code",
   "execution_count": null,
   "metadata": {},
   "outputs": [],
   "source": [
    "new2 = ailments_tfidf_model2.transform(ideal2)\n",
    "new2"
   ]
  },
  {
   "cell_type": "code",
   "execution_count": null,
   "metadata": {},
   "outputs": [],
   "source": [
    "ailments_nn_model2.kneighbors(new2.todense())"
   ]
  },
  {
   "cell_type": "code",
   "execution_count": null,
   "metadata": {},
   "outputs": [],
   "source": [
    "df['Strain'][162]"
   ]
  },
  {
   "cell_type": "code",
   "execution_count": null,
   "metadata": {},
   "outputs": [],
   "source": [
    "df['ailments'][162]"
   ]
  },
  {
   "cell_type": "code",
   "execution_count": null,
   "metadata": {},
   "outputs": [],
   "source": [
    "import json\n",
    "def recommend(user_input):\n",
    "    temp_df = ailments_nn_model2.kneighbors(ailments_tfidf_model2.transform([user_input]).todense())[1]\n",
    "    \n",
    "\n",
    "    #print(temp_df)\n",
    "    \n",
    "    for i in range(4):\n",
    "        info = df.loc[temp_df[0][i]]['Strain']\n",
    "        info_effects = df.loc[temp_df[0][i]]['Effects']\n",
    "        info_flavor = df.loc[temp_df[0][i]]['Flavor']\n",
    "        info_description = df.loc[temp_df[0][i]]['Description']\n",
    "        info_rating = df.loc[temp_df[0][i]]['Rating']\n",
    "        info_ailments = df.loc[temp_df[0][i]]['ailments']\n",
    "\n",
    "        \n",
    "        print(json.dumps(info))\n",
    "        print(json.dumps(info_ailments))\n",
    "        print(json.dumps(info_effects))\n",
    "        print(json.dumps(info_flavor))\n",
    "        print(json.dumps(info_description))\n",
    "        print(json.dumps(info_rating))\n",
    "        \n",
    "\n",
    "        \n",
    "        #return json.dumps(info)  #for engineeers, the return does not work in jupyter lab.  Should work in vsCode.\n",
    "        #return json.dumps(info_ailments)\n",
    "        #return json.dumps(info_effects)\n",
    "        #return json.dumps(info_flavor)\n",
    "        #return json.dump(info_description)\n",
    "        #return json.dumps(info_rating)\n",
    "        \n"
   ]
  },
  {
   "cell_type": "code",
   "execution_count": null,
   "metadata": {},
   "outputs": [],
   "source": [
    "recommend('for arthritis')"
   ]
  },
  {
   "cell_type": "code",
   "execution_count": null,
   "metadata": {},
   "outputs": [],
   "source": []
  }
 ],
 "metadata": {
  "kernelspec": {
   "display_name": "Python 3",
   "language": "python",
   "name": "python3"
  },
  "language_info": {
   "codemirror_mode": {
    "name": "ipython",
    "version": 3
   },
   "file_extension": ".py",
   "mimetype": "text/x-python",
   "name": "python",
   "nbconvert_exporter": "python",
   "pygments_lexer": "ipython3",
   "version": "3.7.6"
  }
 },
 "nbformat": 4,
 "nbformat_minor": 4
}
