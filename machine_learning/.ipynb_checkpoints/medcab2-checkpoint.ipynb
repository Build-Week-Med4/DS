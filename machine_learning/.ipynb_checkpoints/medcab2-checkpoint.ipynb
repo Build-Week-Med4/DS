{
 "cells": [
  {
   "cell_type": "code",
   "execution_count": 1,
   "metadata": {},
   "outputs": [],
   "source": [
    "import pandas as pd\n",
    "import re\n",
    "import string\n",
    "import matplotlib.pyplot as plt\n",
    "import numpy as np\n",
    "import spacy\n",
    "from sklearn.feature_extraction.text import CountVectorizer, TfidfVectorizer\n",
    "from spacy.tokenizer import Tokenizer\n",
    "from sklearn.neighbors import NearestNeighbors\n",
    "import en_core_web_lg"
   ]
  },
  {
   "cell_type": "code",
   "execution_count": 2,
   "metadata": {},
   "outputs": [
    {
     "data": {
      "text/html": [
       "<div>\n",
       "<style scoped>\n",
       "    .dataframe tbody tr th:only-of-type {\n",
       "        vertical-align: middle;\n",
       "    }\n",
       "\n",
       "    .dataframe tbody tr th {\n",
       "        vertical-align: top;\n",
       "    }\n",
       "\n",
       "    .dataframe thead th {\n",
       "        text-align: right;\n",
       "    }\n",
       "</style>\n",
       "<table border=\"1\" class=\"dataframe\">\n",
       "  <thead>\n",
       "    <tr style=\"text-align: right;\">\n",
       "      <th></th>\n",
       "      <th>Strain</th>\n",
       "      <th>Type</th>\n",
       "      <th>Rating</th>\n",
       "      <th>Effects</th>\n",
       "      <th>Flavor</th>\n",
       "      <th>Description</th>\n",
       "      <th>alments</th>\n",
       "    </tr>\n",
       "  </thead>\n",
       "  <tbody>\n",
       "    <tr>\n",
       "      <td>0</td>\n",
       "      <td>303-og</td>\n",
       "      <td>indica</td>\n",
       "      <td>4.2</td>\n",
       "      <td>Relaxed,Happy,Euphoric,Uplifted,Giggly</td>\n",
       "      <td>Citrus,Pungent,Earthy</td>\n",
       "      <td>The indica-dominant 303 OG is a Colorado strai...</td>\n",
       "      <td>['multiple-sclerosis', 'seizures']</td>\n",
       "    </tr>\n",
       "    <tr>\n",
       "      <td>1</td>\n",
       "      <td>818-og</td>\n",
       "      <td>indica</td>\n",
       "      <td>4.7</td>\n",
       "      <td>Relaxed,Happy,Euphoric,Giggly,Sleepy</td>\n",
       "      <td>Earthy,Diesel,Flowery</td>\n",
       "      <td>Named after the telephone area code of the San...</td>\n",
       "      <td>['muscular-dystrophy']</td>\n",
       "    </tr>\n",
       "    <tr>\n",
       "      <td>2</td>\n",
       "      <td>acdc</td>\n",
       "      <td>hybrid</td>\n",
       "      <td>4.5</td>\n",
       "      <td>Relaxed,Happy,Uplifted,Focused,Euphoric</td>\n",
       "      <td>Earthy,Pine,Woody</td>\n",
       "      <td>ACDC is a sativa-dominant phenotype of the hig...</td>\n",
       "      <td>['muscle-spasms']</td>\n",
       "    </tr>\n",
       "    <tr>\n",
       "      <td>3</td>\n",
       "      <td>afghan-haze</td>\n",
       "      <td>hybrid</td>\n",
       "      <td>4.3</td>\n",
       "      <td>Sleepy,Relaxed,Giggly,Happy,Creative</td>\n",
       "      <td>Earthy,Flowery,Tea</td>\n",
       "      <td>Afghan Haze is a sativa-dominant hybrid that c...</td>\n",
       "      <td>['gastrointestinal-disorder']</td>\n",
       "    </tr>\n",
       "    <tr>\n",
       "      <td>4</td>\n",
       "      <td>afghan-skunk</td>\n",
       "      <td>indica</td>\n",
       "      <td>4.3</td>\n",
       "      <td>Sleepy,Relaxed,Happy,Hungry,Giggly</td>\n",
       "      <td>Skunk,Woody,Sweet</td>\n",
       "      <td>This popular classic strain was originally dev...</td>\n",
       "      <td>['lack-of-appetite']</td>\n",
       "    </tr>\n",
       "  </tbody>\n",
       "</table>\n",
       "</div>"
      ],
      "text/plain": [
       "         Strain    Type  Rating                                  Effects  \\\n",
       "0        303-og  indica     4.2   Relaxed,Happy,Euphoric,Uplifted,Giggly   \n",
       "1        818-og  indica     4.7     Relaxed,Happy,Euphoric,Giggly,Sleepy   \n",
       "2          acdc  hybrid     4.5  Relaxed,Happy,Uplifted,Focused,Euphoric   \n",
       "3   afghan-haze  hybrid     4.3     Sleepy,Relaxed,Giggly,Happy,Creative   \n",
       "4  afghan-skunk  indica     4.3       Sleepy,Relaxed,Happy,Hungry,Giggly   \n",
       "\n",
       "                  Flavor                                        Description  \\\n",
       "0  Citrus,Pungent,Earthy  The indica-dominant 303 OG is a Colorado strai...   \n",
       "1  Earthy,Diesel,Flowery  Named after the telephone area code of the San...   \n",
       "2      Earthy,Pine,Woody  ACDC is a sativa-dominant phenotype of the hig...   \n",
       "3     Earthy,Flowery,Tea  Afghan Haze is a sativa-dominant hybrid that c...   \n",
       "4      Skunk,Woody,Sweet  This popular classic strain was originally dev...   \n",
       "\n",
       "                              alments  \n",
       "0  ['multiple-sclerosis', 'seizures']  \n",
       "1              ['muscular-dystrophy']  \n",
       "2                   ['muscle-spasms']  \n",
       "3       ['gastrointestinal-disorder']  \n",
       "4                ['lack-of-appetite']  "
      ]
     },
     "execution_count": 2,
     "metadata": {},
     "output_type": "execute_result"
    }
   ],
   "source": [
    "df = pd.read_csv('medical.csv')\n",
    "df.head()"
   ]
  },
  {
   "cell_type": "code",
   "execution_count": 3,
   "metadata": {},
   "outputs": [],
   "source": [
    "def make_into_list(words):\n",
    "    lst = list(words.split(\" \"))\n",
    "    return lst"
   ]
  },
  {
   "cell_type": "code",
   "execution_count": 4,
   "metadata": {},
   "outputs": [],
   "source": [
    "df = df.replace('None', np.nan)\n",
    "df = df.dropna().reset_index()"
   ]
  },
  {
   "cell_type": "code",
   "execution_count": 5,
   "metadata": {},
   "outputs": [
    {
     "data": {
      "text/html": [
       "<div>\n",
       "<style scoped>\n",
       "    .dataframe tbody tr th:only-of-type {\n",
       "        vertical-align: middle;\n",
       "    }\n",
       "\n",
       "    .dataframe tbody tr th {\n",
       "        vertical-align: top;\n",
       "    }\n",
       "\n",
       "    .dataframe thead th {\n",
       "        text-align: right;\n",
       "    }\n",
       "</style>\n",
       "<table border=\"1\" class=\"dataframe\">\n",
       "  <thead>\n",
       "    <tr style=\"text-align: right;\">\n",
       "      <th></th>\n",
       "      <th>index</th>\n",
       "      <th>Strain</th>\n",
       "      <th>Type</th>\n",
       "      <th>Rating</th>\n",
       "      <th>Effects</th>\n",
       "      <th>Flavor</th>\n",
       "      <th>Description</th>\n",
       "      <th>alments</th>\n",
       "      <th>ailments</th>\n",
       "    </tr>\n",
       "  </thead>\n",
       "  <tbody>\n",
       "    <tr>\n",
       "      <td>0</td>\n",
       "      <td>0</td>\n",
       "      <td>303-og</td>\n",
       "      <td>indica</td>\n",
       "      <td>4.2</td>\n",
       "      <td>Relaxed,Happy,Euphoric,Uplifted,Giggly</td>\n",
       "      <td>Citrus,Pungent,Earthy</td>\n",
       "      <td>The indica-dominant 303 OG is a Colorado strai...</td>\n",
       "      <td>['multiple-sclerosis', 'seizures']</td>\n",
       "      <td>['multiple-sclerosis'  'seizures']</td>\n",
       "    </tr>\n",
       "    <tr>\n",
       "      <td>1</td>\n",
       "      <td>1</td>\n",
       "      <td>818-og</td>\n",
       "      <td>indica</td>\n",
       "      <td>4.7</td>\n",
       "      <td>Relaxed,Happy,Euphoric,Giggly,Sleepy</td>\n",
       "      <td>Earthy,Diesel,Flowery</td>\n",
       "      <td>Named after the telephone area code of the San...</td>\n",
       "      <td>['muscular-dystrophy']</td>\n",
       "      <td>['muscular-dystrophy']</td>\n",
       "    </tr>\n",
       "    <tr>\n",
       "      <td>2</td>\n",
       "      <td>2</td>\n",
       "      <td>acdc</td>\n",
       "      <td>hybrid</td>\n",
       "      <td>4.5</td>\n",
       "      <td>Relaxed,Happy,Uplifted,Focused,Euphoric</td>\n",
       "      <td>Earthy,Pine,Woody</td>\n",
       "      <td>ACDC is a sativa-dominant phenotype of the hig...</td>\n",
       "      <td>['muscle-spasms']</td>\n",
       "      <td>['muscle-spasms']</td>\n",
       "    </tr>\n",
       "    <tr>\n",
       "      <td>3</td>\n",
       "      <td>3</td>\n",
       "      <td>afghan-haze</td>\n",
       "      <td>hybrid</td>\n",
       "      <td>4.3</td>\n",
       "      <td>Sleepy,Relaxed,Giggly,Happy,Creative</td>\n",
       "      <td>Earthy,Flowery,Tea</td>\n",
       "      <td>Afghan Haze is a sativa-dominant hybrid that c...</td>\n",
       "      <td>['gastrointestinal-disorder']</td>\n",
       "      <td>['gastrointestinal-disorder']</td>\n",
       "    </tr>\n",
       "    <tr>\n",
       "      <td>4</td>\n",
       "      <td>4</td>\n",
       "      <td>afghan-skunk</td>\n",
       "      <td>indica</td>\n",
       "      <td>4.3</td>\n",
       "      <td>Sleepy,Relaxed,Happy,Hungry,Giggly</td>\n",
       "      <td>Skunk,Woody,Sweet</td>\n",
       "      <td>This popular classic strain was originally dev...</td>\n",
       "      <td>['lack-of-appetite']</td>\n",
       "      <td>['lack-of-appetite']</td>\n",
       "    </tr>\n",
       "  </tbody>\n",
       "</table>\n",
       "</div>"
      ],
      "text/plain": [
       "   index        Strain    Type  Rating  \\\n",
       "0      0        303-og  indica     4.2   \n",
       "1      1        818-og  indica     4.7   \n",
       "2      2          acdc  hybrid     4.5   \n",
       "3      3   afghan-haze  hybrid     4.3   \n",
       "4      4  afghan-skunk  indica     4.3   \n",
       "\n",
       "                                   Effects                 Flavor  \\\n",
       "0   Relaxed,Happy,Euphoric,Uplifted,Giggly  Citrus,Pungent,Earthy   \n",
       "1     Relaxed,Happy,Euphoric,Giggly,Sleepy  Earthy,Diesel,Flowery   \n",
       "2  Relaxed,Happy,Uplifted,Focused,Euphoric      Earthy,Pine,Woody   \n",
       "3     Sleepy,Relaxed,Giggly,Happy,Creative     Earthy,Flowery,Tea   \n",
       "4       Sleepy,Relaxed,Happy,Hungry,Giggly      Skunk,Woody,Sweet   \n",
       "\n",
       "                                         Description  \\\n",
       "0  The indica-dominant 303 OG is a Colorado strai...   \n",
       "1  Named after the telephone area code of the San...   \n",
       "2  ACDC is a sativa-dominant phenotype of the hig...   \n",
       "3  Afghan Haze is a sativa-dominant hybrid that c...   \n",
       "4  This popular classic strain was originally dev...   \n",
       "\n",
       "                              alments                            ailments  \n",
       "0  ['multiple-sclerosis', 'seizures']  ['multiple-sclerosis'  'seizures']  \n",
       "1              ['muscular-dystrophy']              ['muscular-dystrophy']  \n",
       "2                   ['muscle-spasms']                   ['muscle-spasms']  \n",
       "3       ['gastrointestinal-disorder']       ['gastrointestinal-disorder']  \n",
       "4                ['lack-of-appetite']                ['lack-of-appetite']  "
      ]
     },
     "execution_count": 5,
     "metadata": {},
     "output_type": "execute_result"
    }
   ],
   "source": [
    "df['ailments'] = df['alments'].str.replace(',', ' ')\n",
    "\n",
    "\n",
    "df.head()"
   ]
  },
  {
   "cell_type": "code",
   "execution_count": 6,
   "metadata": {},
   "outputs": [
    {
     "name": "stdout",
     "output_type": "stream",
     "text": [
      "2.3.2\n"
     ]
    }
   ],
   "source": [
    "print(spacy.__version__)  "
   ]
  },
  {
   "cell_type": "code",
   "execution_count": 7,
   "metadata": {},
   "outputs": [
    {
     "name": "stdout",
     "output_type": "stream",
     "text": [
      "0    [['multiple-sclerosis',  , 'seizures']]\n",
      "1                   [['muscular-dystrophy']]\n",
      "2                        [['muscle-spasms']]\n",
      "3            [['gastrointestinal-disorder']]\n",
      "4                     [['lack-of-appetite']]\n",
      "Name: combined_tokens, dtype: object\n"
     ]
    }
   ],
   "source": [
    "nlp = spacy.load(\"en_core_web_lg\")\n",
    "df.head()\n",
    "\n",
    "# The Tokenizer\n",
    "tokenizer = Tokenizer(nlp.vocab)\n",
    "\n",
    "# Make the tokens for description\n",
    "combined_tokens = []\n",
    "for txt in tokenizer.pipe(df['ailments'], batch_size=500):\n",
    "    txt_tokens = [token.text for token in txt]\n",
    "    combined_tokens.append(txt_tokens)\n",
    "df['combined_tokens'] = combined_tokens\n",
    "print(df['combined_tokens'].head())"
   ]
  },
  {
   "cell_type": "code",
   "execution_count": 8,
   "metadata": {},
   "outputs": [],
   "source": [
    "def tokenize(document):\n",
    "    \n",
    "    doc = nlp(document)\n",
    "    \n",
    "    return [token.lemma_.strip() for token in doc if (token.is_stop != True) and (token.is_punct != True)]"
   ]
  },
  {
   "cell_type": "code",
   "execution_count": 9,
   "metadata": {},
   "outputs": [
    {
     "name": "stdout",
     "output_type": "stream",
     "text": [
      "(296, 154)\n"
     ]
    },
    {
     "data": {
      "text/html": [
       "<div>\n",
       "<style scoped>\n",
       "    .dataframe tbody tr th:only-of-type {\n",
       "        vertical-align: middle;\n",
       "    }\n",
       "\n",
       "    .dataframe tbody tr th {\n",
       "        vertical-align: top;\n",
       "    }\n",
       "\n",
       "    .dataframe thead th {\n",
       "        text-align: right;\n",
       "    }\n",
       "</style>\n",
       "<table border=\"1\" class=\"dataframe\">\n",
       "  <thead>\n",
       "    <tr style=\"text-align: right;\">\n",
       "      <th></th>\n",
       "      <th>add</th>\n",
       "      <th>add adhd</th>\n",
       "      <th>adhd</th>\n",
       "      <th>adhd arthritis</th>\n",
       "      <th>adhd bipolar</th>\n",
       "      <th>adhd muscle</th>\n",
       "      <th>adhd spinal</th>\n",
       "      <th>aids</th>\n",
       "      <th>aids muscular</th>\n",
       "      <th>alzheimers</th>\n",
       "      <th>...</th>\n",
       "      <th>spasms</th>\n",
       "      <th>spasticity</th>\n",
       "      <th>spinal</th>\n",
       "      <th>spinal cord</th>\n",
       "      <th>stress</th>\n",
       "      <th>syndrome</th>\n",
       "      <th>tinnitus</th>\n",
       "      <th>tinnitus tourettes</th>\n",
       "      <th>tourettes</th>\n",
       "      <th>tourettes syndrome</th>\n",
       "    </tr>\n",
       "  </thead>\n",
       "  <tbody>\n",
       "    <tr>\n",
       "      <td>0</td>\n",
       "      <td>0.0</td>\n",
       "      <td>0.0</td>\n",
       "      <td>0.0</td>\n",
       "      <td>0.0</td>\n",
       "      <td>0.0</td>\n",
       "      <td>0.0</td>\n",
       "      <td>0.0</td>\n",
       "      <td>0.0</td>\n",
       "      <td>0.0</td>\n",
       "      <td>0.0</td>\n",
       "      <td>...</td>\n",
       "      <td>0.00000</td>\n",
       "      <td>0.0</td>\n",
       "      <td>0.0</td>\n",
       "      <td>0.0</td>\n",
       "      <td>0.0</td>\n",
       "      <td>0.0</td>\n",
       "      <td>0.0</td>\n",
       "      <td>0.0</td>\n",
       "      <td>0.0</td>\n",
       "      <td>0.0</td>\n",
       "    </tr>\n",
       "    <tr>\n",
       "      <td>1</td>\n",
       "      <td>0.0</td>\n",
       "      <td>0.0</td>\n",
       "      <td>0.0</td>\n",
       "      <td>0.0</td>\n",
       "      <td>0.0</td>\n",
       "      <td>0.0</td>\n",
       "      <td>0.0</td>\n",
       "      <td>0.0</td>\n",
       "      <td>0.0</td>\n",
       "      <td>0.0</td>\n",
       "      <td>...</td>\n",
       "      <td>0.00000</td>\n",
       "      <td>0.0</td>\n",
       "      <td>0.0</td>\n",
       "      <td>0.0</td>\n",
       "      <td>0.0</td>\n",
       "      <td>0.0</td>\n",
       "      <td>0.0</td>\n",
       "      <td>0.0</td>\n",
       "      <td>0.0</td>\n",
       "      <td>0.0</td>\n",
       "    </tr>\n",
       "    <tr>\n",
       "      <td>2</td>\n",
       "      <td>0.0</td>\n",
       "      <td>0.0</td>\n",
       "      <td>0.0</td>\n",
       "      <td>0.0</td>\n",
       "      <td>0.0</td>\n",
       "      <td>0.0</td>\n",
       "      <td>0.0</td>\n",
       "      <td>0.0</td>\n",
       "      <td>0.0</td>\n",
       "      <td>0.0</td>\n",
       "      <td>...</td>\n",
       "      <td>0.57735</td>\n",
       "      <td>0.0</td>\n",
       "      <td>0.0</td>\n",
       "      <td>0.0</td>\n",
       "      <td>0.0</td>\n",
       "      <td>0.0</td>\n",
       "      <td>0.0</td>\n",
       "      <td>0.0</td>\n",
       "      <td>0.0</td>\n",
       "      <td>0.0</td>\n",
       "    </tr>\n",
       "    <tr>\n",
       "      <td>3</td>\n",
       "      <td>0.0</td>\n",
       "      <td>0.0</td>\n",
       "      <td>0.0</td>\n",
       "      <td>0.0</td>\n",
       "      <td>0.0</td>\n",
       "      <td>0.0</td>\n",
       "      <td>0.0</td>\n",
       "      <td>0.0</td>\n",
       "      <td>0.0</td>\n",
       "      <td>0.0</td>\n",
       "      <td>...</td>\n",
       "      <td>0.00000</td>\n",
       "      <td>0.0</td>\n",
       "      <td>0.0</td>\n",
       "      <td>0.0</td>\n",
       "      <td>0.0</td>\n",
       "      <td>0.0</td>\n",
       "      <td>0.0</td>\n",
       "      <td>0.0</td>\n",
       "      <td>0.0</td>\n",
       "      <td>0.0</td>\n",
       "    </tr>\n",
       "    <tr>\n",
       "      <td>4</td>\n",
       "      <td>0.0</td>\n",
       "      <td>0.0</td>\n",
       "      <td>0.0</td>\n",
       "      <td>0.0</td>\n",
       "      <td>0.0</td>\n",
       "      <td>0.0</td>\n",
       "      <td>0.0</td>\n",
       "      <td>0.0</td>\n",
       "      <td>0.0</td>\n",
       "      <td>0.0</td>\n",
       "      <td>...</td>\n",
       "      <td>0.00000</td>\n",
       "      <td>0.0</td>\n",
       "      <td>0.0</td>\n",
       "      <td>0.0</td>\n",
       "      <td>0.0</td>\n",
       "      <td>0.0</td>\n",
       "      <td>0.0</td>\n",
       "      <td>0.0</td>\n",
       "      <td>0.0</td>\n",
       "      <td>0.0</td>\n",
       "    </tr>\n",
       "  </tbody>\n",
       "</table>\n",
       "<p>5 rows × 154 columns</p>\n",
       "</div>"
      ],
      "text/plain": [
       "   add  add adhd  adhd  adhd arthritis  adhd bipolar  adhd muscle  \\\n",
       "0  0.0       0.0   0.0             0.0           0.0          0.0   \n",
       "1  0.0       0.0   0.0             0.0           0.0          0.0   \n",
       "2  0.0       0.0   0.0             0.0           0.0          0.0   \n",
       "3  0.0       0.0   0.0             0.0           0.0          0.0   \n",
       "4  0.0       0.0   0.0             0.0           0.0          0.0   \n",
       "\n",
       "   adhd spinal  aids  aids muscular  alzheimers  ...   spasms  spasticity  \\\n",
       "0          0.0   0.0            0.0         0.0  ...  0.00000         0.0   \n",
       "1          0.0   0.0            0.0         0.0  ...  0.00000         0.0   \n",
       "2          0.0   0.0            0.0         0.0  ...  0.57735         0.0   \n",
       "3          0.0   0.0            0.0         0.0  ...  0.00000         0.0   \n",
       "4          0.0   0.0            0.0         0.0  ...  0.00000         0.0   \n",
       "\n",
       "   spinal  spinal cord  stress  syndrome  tinnitus  tinnitus tourettes  \\\n",
       "0     0.0          0.0     0.0       0.0       0.0                 0.0   \n",
       "1     0.0          0.0     0.0       0.0       0.0                 0.0   \n",
       "2     0.0          0.0     0.0       0.0       0.0                 0.0   \n",
       "3     0.0          0.0     0.0       0.0       0.0                 0.0   \n",
       "4     0.0          0.0     0.0       0.0       0.0                 0.0   \n",
       "\n",
       "   tourettes  tourettes syndrome  \n",
       "0        0.0                 0.0  \n",
       "1        0.0                 0.0  \n",
       "2        0.0                 0.0  \n",
       "3        0.0                 0.0  \n",
       "4        0.0                 0.0  \n",
       "\n",
       "[5 rows x 154 columns]"
      ]
     },
     "execution_count": 9,
     "metadata": {},
     "output_type": "execute_result"
    }
   ],
   "source": [
    "# Instantiate vectorizer object\n",
    "tfidf = TfidfVectorizer(stop_words = 'english',\n",
    "                       ngram_range = (1,2),\n",
    "                       max_features = 2000)\n",
    "\n",
    "# Create a vocabulary and tf-idf score per document\n",
    "dtm = tfidf.fit_transform(df['ailments'])\n",
    "                         \n",
    "\n",
    "# Get feature names to use as dataframe column headers\n",
    "dtm = pd.DataFrame(dtm.todense(), columns=tfidf.get_feature_names())\n",
    "nn = NearestNeighbors(n_neighbors=4, algorithm='kd_tree')\n",
    "nn.fit(dtm)\n",
    "\n",
    "\n",
    "# View Feature Matrix as DataFrame\n",
    "print(dtm.shape)\n",
    "dtm.head()"
   ]
  },
  {
   "cell_type": "code",
   "execution_count": 10,
   "metadata": {},
   "outputs": [
    {
     "data": {
      "text/plain": [
       "(296, 154)"
      ]
     },
     "execution_count": 10,
     "metadata": {},
     "output_type": "execute_result"
    }
   ],
   "source": [
    "dtm.shape"
   ]
  },
  {
   "cell_type": "code",
   "execution_count": 13,
   "metadata": {},
   "outputs": [
    {
     "data": {
      "text/plain": [
       "[['gastrointestinal-disorder']]                       16\n",
       "[['lack-of-appetite']]                                14\n",
       "[['phantom-limb-pain']]                               10\n",
       "[['bipolar-disorder']]                                10\n",
       "[['tourettes-syndrome']]                               9\n",
       "                                                      ..\n",
       "[['cachexia',  , 'tourettes-syndrome']]                1\n",
       "[['anxiety',  , 'insomnia']]                           1\n",
       "[['alzheimers',  , 'parkinsons']]                      1\n",
       "[['eye-pressure',  , 'hypertension']]                  1\n",
       "[['anorexia',  , 'fibromyalgia',  , 'parkinsons']]     1\n",
       "Name: combined_tokens, Length: 112, dtype: int64"
      ]
     },
     "execution_count": 13,
     "metadata": {},
     "output_type": "execute_result"
    }
   ],
   "source": []
  },
  {
   "cell_type": "code",
   "execution_count": 14,
   "metadata": {},
   "outputs": [
    {
     "data": {
      "text/plain": [
       "<1x154 sparse matrix of type '<class 'numpy.float64'>'\n",
       "\twith 8 stored elements in Compressed Sparse Row format>"
      ]
     },
     "execution_count": 14,
     "metadata": {},
     "output_type": "execute_result"
    }
   ],
   "source": [
    "ideal = [\"\"\"\n",
    "lack-of-appetite,bipolar-disorder,hypertension\n",
    "\"\"\"]\n",
    "\n",
    "# Query the ideal descprition\n",
    "new = tfidf.transform(ideal)\n",
    "new"
   ]
  },
  {
   "cell_type": "code",
   "execution_count": 15,
   "metadata": {},
   "outputs": [
    {
     "data": {
      "text/plain": [
       "(array([[0.92869166, 0.92869166, 0.92869166, 0.92869166]]),\n",
       " array([[255, 183, 262, 190]]))"
      ]
     },
     "execution_count": 15,
     "metadata": {},
     "output_type": "execute_result"
    }
   ],
   "source": [
    "nn.kneighbors(new.todense())"
   ]
  },
  {
   "cell_type": "code",
   "execution_count": 17,
   "metadata": {},
   "outputs": [],
   "source": [
    "import pickle\n",
    "# Dump the trained classifier (nn)  with Pickle\n",
    "pickle_filename = 'ailments_model.pkl2'\n",
    "pickled_model = open(pickle_filename, 'wb')  # Open the file to save as pkl file\n",
    "pickle.dump(nn, pickled_model)\n",
    "pickled_model.close() # Close the pickle instances"
   ]
  },
  {
   "cell_type": "code",
   "execution_count": 18,
   "metadata": {},
   "outputs": [
    {
     "name": "stdout",
     "output_type": "stream",
     "text": [
      "Loaded model ::  NearestNeighbors(algorithm='kd_tree', leaf_size=30, metric='minkowski',\n",
      "                 metric_params=None, n_jobs=None, n_neighbors=4, p=2,\n",
      "                 radius=1.0)\n"
     ]
    }
   ],
   "source": [
    "# Loading the saved model\n",
    "ailments_model_pkl2 = open(pickle_filename, 'rb')\n",
    "ailments_nn_model2 = pickle.load(ailments_model_pkl2)\n",
    "print (\"Loaded model :: \", ailments_nn_model2)  # print to verify"
   ]
  },
  {
   "cell_type": "code",
   "execution_count": 19,
   "metadata": {},
   "outputs": [],
   "source": [
    "# Dump the trained classifier (tfidf)  with Pickle\n",
    "pickle_filename_1 = 'ailments_tfidf.pkl2'\n",
    "pickled_model_1 = open(pickle_filename_1, 'wb')  # Open the file to save as pkl file\n",
    "pickle.dump(tfidf, pickled_model_1)\n",
    "pickled_model_1.close() # Close the pickle instances"
   ]
  },
  {
   "cell_type": "code",
   "execution_count": 22,
   "metadata": {},
   "outputs": [
    {
     "name": "stdout",
     "output_type": "stream",
     "text": [
      "Loaded model ::  TfidfVectorizer(analyzer='word', binary=False, decode_error='strict',\n",
      "                dtype=<class 'numpy.float64'>, encoding='utf-8',\n",
      "                input='content', lowercase=True, max_df=1.0, max_features=2000,\n",
      "                min_df=1, ngram_range=(1, 2), norm='l2', preprocessor=None,\n",
      "                smooth_idf=True, stop_words='english', strip_accents=None,\n",
      "                sublinear_tf=False, token_pattern='(?u)\\\\b\\\\w\\\\w+\\\\b',\n",
      "                tokenizer=None, use_idf=True, vocabulary=None)\n"
     ]
    }
   ],
   "source": [
    "# Loading the saved model\n",
    "ailments_model_pkl_1 = open(pickle_filename_1, 'rb')\n",
    "ailments_tfidf_model2 = pickle.load(ailments_model_pkl_1)\n",
    "print (\"Loaded model :: \", tfidf_model2)  # print to verify"
   ]
  },
  {
   "cell_type": "code",
   "execution_count": 23,
   "metadata": {},
   "outputs": [
    {
     "data": {
      "text/plain": [
       "201                                     [['anorexia']]\n",
       "52                            [['muscular-dystrophy']]\n",
       "245                                   [['depression']]\n",
       "191                                     [['insomnia']]\n",
       "65                                     [['arthritis']]\n",
       "270                           [['multiple-sclerosis']]\n",
       "60                                        [['asthma']]\n",
       "92                     [['gastrointestinal-disorder']]\n",
       "235    [['lack-of-appetite',  , 'tourettes-syndrome']]\n",
       "15                                      [['add-adhd']]\n",
       "Name: combined_tokens, dtype: object"
      ]
     },
     "execution_count": 23,
     "metadata": {},
     "output_type": "execute_result"
    }
   ],
   "source": [
    "df['combined_tokens'].sample(10)"
   ]
  },
  {
   "cell_type": "code",
   "execution_count": 24,
   "metadata": {},
   "outputs": [],
   "source": [
    "ideal2 = ['anorexia,muscular-dystropy,insomnia,add-adhd']"
   ]
  },
  {
   "cell_type": "code",
   "execution_count": 25,
   "metadata": {},
   "outputs": [
    {
     "data": {
      "text/plain": [
       "<1x154 sparse matrix of type '<class 'numpy.float64'>'\n",
       "\twith 6 stored elements in Compressed Sparse Row format>"
      ]
     },
     "execution_count": 25,
     "metadata": {},
     "output_type": "execute_result"
    }
   ],
   "source": [
    "new2 = tfidf_model2.transform(ideal2)\n",
    "new2"
   ]
  },
  {
   "cell_type": "code",
   "execution_count": 27,
   "metadata": {},
   "outputs": [
    {
     "data": {
      "text/plain": [
       "(array([[0.72857198, 0.72857198, 0.99004848, 0.99461667]]),\n",
       " array([[ 15,  84, 162,  45]]))"
      ]
     },
     "execution_count": 27,
     "metadata": {},
     "output_type": "execute_result"
    }
   ],
   "source": [
    "ailments_nn_model2.kneighbors(new2.todense())"
   ]
  },
  {
   "cell_type": "code",
   "execution_count": 32,
   "metadata": {},
   "outputs": [
    {
     "data": {
      "text/plain": [
       "'mochi'"
      ]
     },
     "execution_count": 32,
     "metadata": {},
     "output_type": "execute_result"
    }
   ],
   "source": [
    "df['Strain'][162]"
   ]
  },
  {
   "cell_type": "code",
   "execution_count": 33,
   "metadata": {},
   "outputs": [
    {
     "data": {
      "text/plain": [
       "\"['add-adhd'  'arthritis'  'muscular-dystrophy']\""
      ]
     },
     "execution_count": 33,
     "metadata": {},
     "output_type": "execute_result"
    }
   ],
   "source": [
    "df['ailments'][162]"
   ]
  },
  {
   "cell_type": "code",
   "execution_count": 38,
   "metadata": {},
   "outputs": [],
   "source": [
    "import json\n",
    "def recommend(user_input):\n",
    "    temp_df = ailments_nn_model2.kneighbors(tfidf_model2.transform([user_input]).todense())[1]\n",
    "    \n",
    "\n",
    "    #print(temp_df)\n",
    "    \n",
    "    for i in range(4):\n",
    "        info = df.loc[temp_df[0][i]]['Strain']\n",
    "        info_effects = df.loc[temp_df[0][i]]['Effects']\n",
    "        info_flavor = df.loc[temp_df[0][i]]['Flavor']\n",
    "        info_description = df.loc[temp_df[0][i]]['Description']\n",
    "        info_rating = df.loc[temp_df[0][i]]['Rating']\n",
    "        info_ailments = df.loc[temp_df[0][i]]['ailments']\n",
    "\n",
    "        \n",
    "        print(json.dumps(info))\n",
    "        print(json.dumps(info_ailments))\n",
    "        print(json.dumps(info_effects))\n",
    "        print(json.dumps(info_flavor))\n",
    "        print(json.dumps(info_description))\n",
    "        print(json.dumps(info_rating))\n",
    "        \n",
    "\n",
    "        \n",
    "        #return json.dumps(info)  #for engineeers, the return does not work in jupyter lab.  Should work in vsCode.\n",
    "        #return json.dumps(info_ailments)\n",
    "        #return json.dumps(info_effects)\n",
    "        #return json.dumps(info_flavor)\n",
    "        #return json.dump(info_description)\n",
    "        #return json.dumps(info_rating)\n",
    "        \n"
   ]
  },
  {
   "cell_type": "code",
   "execution_count": 39,
   "metadata": {},
   "outputs": [
    {
     "name": "stdout",
     "output_type": "stream",
     "text": [
      "\"medibud\"\n",
      "\"Uplifted,Relaxed,Euphoric,Happy,Focused\"\n",
      "\"Sweet,Earthy,Skunk\"\n",
      "\"Medibud (or Medi Bud) is an uplifting hybrid strain of unknown genetic origins, but many attribute its upbeat, active effects to sativa parentage. Others claim Medibud is a 60/40 indica-dominant cross, so it\\u2019s possible that this strain expresses itself in various phenotypes. Typically, you can expect high-energy euphoria and heightened sensory awareness from Medibud, but its indica-leaning phenotypes may induce heavier, more relaxing effects.\\u00a0\"\n",
      "4.5\n",
      "\"['arthritis']\"\n",
      "\"la-chocolat\"\n",
      "\"Relaxed,Happy,Euphoric,Sleepy,Hungry\"\n",
      "\"Earthy,Coffee,Sweet\"\n",
      "\"LA Chocolate, bred by DNA Genetics, is a 60/40 indica-dominant strain parented by their cherished LA Confidential indica and Chocolope sativa. This power-couple collectively passes on the best of their qualities: thick resin production, heavy yields, and a sweet, earthy aroma of chocolate and coffee. Its soothing physical effects sink through the body, keeping you relaxed while kindling the appetite.\"\n",
      "4.5\n",
      "\"['arthritis']\"\n",
      "\"cookie-wreck\"\n",
      "\"Happy,Relaxed,Euphoric,Uplifted,Focused\"\n",
      "\"Sweet,Earthy,Pungent\"\n",
      "\"Cookie Wreck, also called Cookie Trainwreck, is a hybrid cross between Girl Scout Cookies and Trainwreck bred by CannaVenture Seeds. A subtle cookie-like aroma radiates from its dense buds, but more distinct fruity flavors come out on the exhale. This hybrid\\u2019s potency is enough to make both parents proud as its cerebral euphoria and full-body effects hit like a freight train.\\u00a0\"\n",
      "4.6\n",
      "\"['arthritis']\"\n",
      "\"tora-bora\"\n",
      "\"Happy,Relaxed,Sleepy,Euphoric,Creative\"\n",
      "\"Pine,Earthy,Berry\"\n",
      "\"Tora Bora is an almost pure indica strain with powerfully heavy effects meant for high-tolerance cannabis veterans. Named after the region near the Afghanistan-Pakistan border, DNA Genetics bred this 99% indica strain by combining L.A. Confidential and X18 Pure Pakistani. The result is a resin-loaded, spicy-smelling indica that can appear almost blue in its coloration. Few strains will deliver better relief for pain and insomnia, and recreational consumers will enjoy the intensity of Tora Bora as long as no plans are made to leave the house. Tora Bora finishes its vegetative cycle quickly and flowers in just a short 8 to 9 weeks indoors.\"\n",
      "4.5\n",
      "\"['arthritis'  'spasticity']\"\n"
     ]
    }
   ],
   "source": [
    "recommend('for arthritis')"
   ]
  },
  {
   "cell_type": "code",
   "execution_count": null,
   "metadata": {},
   "outputs": [],
   "source": []
  }
 ],
 "metadata": {
  "kernelspec": {
   "display_name": "Python 3",
   "language": "python",
   "name": "python3"
  },
  "language_info": {
   "codemirror_mode": {
    "name": "ipython",
    "version": 3
   },
   "file_extension": ".py",
   "mimetype": "text/x-python",
   "name": "python",
   "nbconvert_exporter": "python",
   "pygments_lexer": "ipython3",
   "version": "3.7.4"
  }
 },
 "nbformat": 4,
 "nbformat_minor": 4
}
