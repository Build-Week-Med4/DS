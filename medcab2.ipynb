{
 "cells": [
  {
   "cell_type": "code",
   "execution_count": null,
   "metadata": {},
   "outputs": [],
   "source": [
    "!pip install matplotlib"
   ]
  },
  {
   "cell_type": "code",
   "execution_count": null,
   "metadata": {},
   "outputs": [],
   "source": [
    "!pip install spacy"
   ]
  },
  {
   "cell_type": "code",
   "execution_count": 3,
   "metadata": {},
   "outputs": [
    {
     "name": "stdout",
     "output_type": "stream",
     "text": [
      "\u001b[31mERROR: Could not find a version that satisfies the requirement en_core_web_lg (from versions: none)\u001b[0m\r\n",
      "\u001b[31mERROR: No matching distribution found for en_core_web_lg\u001b[0m\r\n"
     ]
    }
   ],
   "source": []
  },
  {
   "cell_type": "code",
   "execution_count": 4,
   "metadata": {},
   "outputs": [
    {
     "ename": "ImportError",
     "evalue": "cannot import name 'en_core_web_lg' from 'spacy' (/Users/jordancarlisle/opt/anaconda3/lib/python3.7/site-packages/spacy/__init__.py)",
     "output_type": "error",
     "traceback": [
      "\u001b[0;31m---------------------------------------------------------------------------\u001b[0m",
      "\u001b[0;31mImportError\u001b[0m                               Traceback (most recent call last)",
      "\u001b[0;32m<ipython-input-4-ef03d6a99077>\u001b[0m in \u001b[0;36m<module>\u001b[0;34m\u001b[0m\n\u001b[1;32m      8\u001b[0m \u001b[0;32mfrom\u001b[0m \u001b[0mspacy\u001b[0m\u001b[0;34m.\u001b[0m\u001b[0mtokenizer\u001b[0m \u001b[0;32mimport\u001b[0m \u001b[0mTokenizer\u001b[0m\u001b[0;34m\u001b[0m\u001b[0;34m\u001b[0m\u001b[0m\n\u001b[1;32m      9\u001b[0m \u001b[0;32mfrom\u001b[0m \u001b[0msklearn\u001b[0m\u001b[0;34m.\u001b[0m\u001b[0mneighbors\u001b[0m \u001b[0;32mimport\u001b[0m \u001b[0mNearestNeighbors\u001b[0m\u001b[0;34m\u001b[0m\u001b[0;34m\u001b[0m\u001b[0m\n\u001b[0;32m---> 10\u001b[0;31m \u001b[0;32mfrom\u001b[0m \u001b[0mspacy\u001b[0m \u001b[0;32mimport\u001b[0m \u001b[0men_core_web_lg\u001b[0m\u001b[0;34m\u001b[0m\u001b[0;34m\u001b[0m\u001b[0m\n\u001b[0m",
      "\u001b[0;31mImportError\u001b[0m: cannot import name 'en_core_web_lg' from 'spacy' (/Users/jordancarlisle/opt/anaconda3/lib/python3.7/site-packages/spacy/__init__.py)"
     ]
    }
   ],
   "source": [
    "import pandas as pd\n",
    "import re\n",
    "import string\n",
    "import matplotlib.pyplot as plt\n",
    "import numpy as np\n",
    "import spacy\n",
    "import sklearn\n",
    "from sklearn.feature_extraction.text import CountVectorizer, TfidfVectorizer\n",
    "from spacy.tokenizer import Tokenizer\n",
    "from sklearn.neighbors import NearestNeighbors\n",
    "from spacy import en_core_web_lg"
   ]
  },
  {
   "cell_type": "code",
   "execution_count": null,
<<<<<<< HEAD
   "metadata": {},
   "outputs": [],
   "source": []
  },
  {
   "cell_type": "code",
   "execution_count": null,
   "metadata": {},
   "outputs": [],
   "source": []
  },
  {
   "cell_type": "code",
   "execution_count": 2,
   "metadata": {},
   "outputs": [
    {
     "data": {
      "text/html": [
       "<div>\n",
       "<style scoped>\n",
       "    .dataframe tbody tr th:only-of-type {\n",
       "        vertical-align: middle;\n",
       "    }\n",
       "\n",
       "    .dataframe tbody tr th {\n",
       "        vertical-align: top;\n",
       "    }\n",
       "\n",
       "    .dataframe thead th {\n",
       "        text-align: right;\n",
       "    }\n",
       "</style>\n",
       "<table border=\"1\" class=\"dataframe\">\n",
       "  <thead>\n",
       "    <tr style=\"text-align: right;\">\n",
       "      <th></th>\n",
       "      <th>Strain</th>\n",
       "      <th>Type</th>\n",
       "      <th>Rating</th>\n",
       "      <th>Effects</th>\n",
       "      <th>Flavor</th>\n",
       "      <th>Description</th>\n",
       "      <th>alments</th>\n",
       "    </tr>\n",
       "  </thead>\n",
       "  <tbody>\n",
       "    <tr>\n",
       "      <td>0</td>\n",
       "      <td>303-og</td>\n",
       "      <td>indica</td>\n",
       "      <td>4.2</td>\n",
       "      <td>Relaxed,Happy,Euphoric,Uplifted,Giggly</td>\n",
       "      <td>Citrus,Pungent,Earthy</td>\n",
       "      <td>The indica-dominant 303 OG is a Colorado strai...</td>\n",
       "      <td>['multiple-sclerosis', 'seizures']</td>\n",
       "    </tr>\n",
       "    <tr>\n",
       "      <td>1</td>\n",
       "      <td>818-og</td>\n",
       "      <td>indica</td>\n",
       "      <td>4.7</td>\n",
       "      <td>Relaxed,Happy,Euphoric,Giggly,Sleepy</td>\n",
       "      <td>Earthy,Diesel,Flowery</td>\n",
       "      <td>Named after the telephone area code of the San...</td>\n",
       "      <td>['muscular-dystrophy']</td>\n",
       "    </tr>\n",
       "    <tr>\n",
       "      <td>2</td>\n",
       "      <td>acdc</td>\n",
       "      <td>hybrid</td>\n",
       "      <td>4.5</td>\n",
       "      <td>Relaxed,Happy,Uplifted,Focused,Euphoric</td>\n",
       "      <td>Earthy,Pine,Woody</td>\n",
       "      <td>ACDC is a sativa-dominant phenotype of the hig...</td>\n",
       "      <td>['muscle-spasms']</td>\n",
       "    </tr>\n",
       "    <tr>\n",
       "      <td>3</td>\n",
       "      <td>afghan-haze</td>\n",
       "      <td>hybrid</td>\n",
       "      <td>4.3</td>\n",
       "      <td>Sleepy,Relaxed,Giggly,Happy,Creative</td>\n",
       "      <td>Earthy,Flowery,Tea</td>\n",
       "      <td>Afghan Haze is a sativa-dominant hybrid that c...</td>\n",
       "      <td>['gastrointestinal-disorder']</td>\n",
       "    </tr>\n",
       "    <tr>\n",
       "      <td>4</td>\n",
       "      <td>afghan-skunk</td>\n",
       "      <td>indica</td>\n",
       "      <td>4.3</td>\n",
       "      <td>Sleepy,Relaxed,Happy,Hungry,Giggly</td>\n",
       "      <td>Skunk,Woody,Sweet</td>\n",
       "      <td>This popular classic strain was originally dev...</td>\n",
       "      <td>['lack-of-appetite']</td>\n",
       "    </tr>\n",
       "  </tbody>\n",
       "</table>\n",
       "</div>"
      ],
      "text/plain": [
       "         Strain    Type  Rating                                  Effects  \\\n",
       "0        303-og  indica     4.2   Relaxed,Happy,Euphoric,Uplifted,Giggly   \n",
       "1        818-og  indica     4.7     Relaxed,Happy,Euphoric,Giggly,Sleepy   \n",
       "2          acdc  hybrid     4.5  Relaxed,Happy,Uplifted,Focused,Euphoric   \n",
       "3   afghan-haze  hybrid     4.3     Sleepy,Relaxed,Giggly,Happy,Creative   \n",
       "4  afghan-skunk  indica     4.3       Sleepy,Relaxed,Happy,Hungry,Giggly   \n",
       "\n",
       "                  Flavor                                        Description  \\\n",
       "0  Citrus,Pungent,Earthy  The indica-dominant 303 OG is a Colorado strai...   \n",
       "1  Earthy,Diesel,Flowery  Named after the telephone area code of the San...   \n",
       "2      Earthy,Pine,Woody  ACDC is a sativa-dominant phenotype of the hig...   \n",
       "3     Earthy,Flowery,Tea  Afghan Haze is a sativa-dominant hybrid that c...   \n",
       "4      Skunk,Woody,Sweet  This popular classic strain was originally dev...   \n",
       "\n",
       "                              alments  \n",
       "0  ['multiple-sclerosis', 'seizures']  \n",
       "1              ['muscular-dystrophy']  \n",
       "2                   ['muscle-spasms']  \n",
       "3       ['gastrointestinal-disorder']  \n",
       "4                ['lack-of-appetite']  "
      ]
     },
     "execution_count": 2,
     "metadata": {},
     "output_type": "execute_result"
    }
   ],
=======
   "metadata": {},
   "outputs": [],
>>>>>>> 9e3de3f2e93eb3aa2a5c4fbd380866e295e61af6
   "source": [
    "df = pd.read_csv('medical.csv')\n",
    "df.head()"
   ]
  },
  {
   "cell_type": "code",
<<<<<<< HEAD
   "execution_count": 3,
=======
   "execution_count": null,
>>>>>>> 9e3de3f2e93eb3aa2a5c4fbd380866e295e61af6
   "metadata": {},
   "outputs": [],
   "source": [
    "def make_into_list(words):\n",
    "    lst = list(words.split(\" \"))\n",
    "    return lst"
   ]
  },
  {
   "cell_type": "code",
<<<<<<< HEAD
   "execution_count": 4,
=======
   "execution_count": null,
>>>>>>> 9e3de3f2e93eb3aa2a5c4fbd380866e295e61af6
   "metadata": {},
   "outputs": [],
   "source": [
    "df = df.replace('None', np.nan)\n",
    "df = df.dropna().reset_index()"
   ]
  },
  {
   "cell_type": "code",
<<<<<<< HEAD
   "execution_count": 5,
   "metadata": {},
   "outputs": [
    {
     "data": {
      "text/html": [
       "<div>\n",
       "<style scoped>\n",
       "    .dataframe tbody tr th:only-of-type {\n",
       "        vertical-align: middle;\n",
       "    }\n",
       "\n",
       "    .dataframe tbody tr th {\n",
       "        vertical-align: top;\n",
       "    }\n",
       "\n",
       "    .dataframe thead th {\n",
       "        text-align: right;\n",
       "    }\n",
       "</style>\n",
       "<table border=\"1\" class=\"dataframe\">\n",
       "  <thead>\n",
       "    <tr style=\"text-align: right;\">\n",
       "      <th></th>\n",
       "      <th>index</th>\n",
       "      <th>Strain</th>\n",
       "      <th>Type</th>\n",
       "      <th>Rating</th>\n",
       "      <th>Effects</th>\n",
       "      <th>Flavor</th>\n",
       "      <th>Description</th>\n",
       "      <th>alments</th>\n",
       "      <th>ailments</th>\n",
       "    </tr>\n",
       "  </thead>\n",
       "  <tbody>\n",
       "    <tr>\n",
       "      <td>0</td>\n",
       "      <td>0</td>\n",
       "      <td>303-og</td>\n",
       "      <td>indica</td>\n",
       "      <td>4.2</td>\n",
       "      <td>Relaxed,Happy,Euphoric,Uplifted,Giggly</td>\n",
       "      <td>Citrus,Pungent,Earthy</td>\n",
       "      <td>The indica-dominant 303 OG is a Colorado strai...</td>\n",
       "      <td>['multiple-sclerosis', 'seizures']</td>\n",
       "      <td>['multiple-sclerosis'  'seizures']</td>\n",
       "    </tr>\n",
       "    <tr>\n",
       "      <td>1</td>\n",
       "      <td>1</td>\n",
       "      <td>818-og</td>\n",
       "      <td>indica</td>\n",
       "      <td>4.7</td>\n",
       "      <td>Relaxed,Happy,Euphoric,Giggly,Sleepy</td>\n",
       "      <td>Earthy,Diesel,Flowery</td>\n",
       "      <td>Named after the telephone area code of the San...</td>\n",
       "      <td>['muscular-dystrophy']</td>\n",
       "      <td>['muscular-dystrophy']</td>\n",
       "    </tr>\n",
       "    <tr>\n",
       "      <td>2</td>\n",
       "      <td>2</td>\n",
       "      <td>acdc</td>\n",
       "      <td>hybrid</td>\n",
       "      <td>4.5</td>\n",
       "      <td>Relaxed,Happy,Uplifted,Focused,Euphoric</td>\n",
       "      <td>Earthy,Pine,Woody</td>\n",
       "      <td>ACDC is a sativa-dominant phenotype of the hig...</td>\n",
       "      <td>['muscle-spasms']</td>\n",
       "      <td>['muscle-spasms']</td>\n",
       "    </tr>\n",
       "    <tr>\n",
       "      <td>3</td>\n",
       "      <td>3</td>\n",
       "      <td>afghan-haze</td>\n",
       "      <td>hybrid</td>\n",
       "      <td>4.3</td>\n",
       "      <td>Sleepy,Relaxed,Giggly,Happy,Creative</td>\n",
       "      <td>Earthy,Flowery,Tea</td>\n",
       "      <td>Afghan Haze is a sativa-dominant hybrid that c...</td>\n",
       "      <td>['gastrointestinal-disorder']</td>\n",
       "      <td>['gastrointestinal-disorder']</td>\n",
       "    </tr>\n",
       "    <tr>\n",
       "      <td>4</td>\n",
       "      <td>4</td>\n",
       "      <td>afghan-skunk</td>\n",
       "      <td>indica</td>\n",
       "      <td>4.3</td>\n",
       "      <td>Sleepy,Relaxed,Happy,Hungry,Giggly</td>\n",
       "      <td>Skunk,Woody,Sweet</td>\n",
       "      <td>This popular classic strain was originally dev...</td>\n",
       "      <td>['lack-of-appetite']</td>\n",
       "      <td>['lack-of-appetite']</td>\n",
       "    </tr>\n",
       "  </tbody>\n",
       "</table>\n",
       "</div>"
      ],
      "text/plain": [
       "   index        Strain    Type  Rating  \\\n",
       "0      0        303-og  indica     4.2   \n",
       "1      1        818-og  indica     4.7   \n",
       "2      2          acdc  hybrid     4.5   \n",
       "3      3   afghan-haze  hybrid     4.3   \n",
       "4      4  afghan-skunk  indica     4.3   \n",
       "\n",
       "                                   Effects                 Flavor  \\\n",
       "0   Relaxed,Happy,Euphoric,Uplifted,Giggly  Citrus,Pungent,Earthy   \n",
       "1     Relaxed,Happy,Euphoric,Giggly,Sleepy  Earthy,Diesel,Flowery   \n",
       "2  Relaxed,Happy,Uplifted,Focused,Euphoric      Earthy,Pine,Woody   \n",
       "3     Sleepy,Relaxed,Giggly,Happy,Creative     Earthy,Flowery,Tea   \n",
       "4       Sleepy,Relaxed,Happy,Hungry,Giggly      Skunk,Woody,Sweet   \n",
       "\n",
       "                                         Description  \\\n",
       "0  The indica-dominant 303 OG is a Colorado strai...   \n",
       "1  Named after the telephone area code of the San...   \n",
       "2  ACDC is a sativa-dominant phenotype of the hig...   \n",
       "3  Afghan Haze is a sativa-dominant hybrid that c...   \n",
       "4  This popular classic strain was originally dev...   \n",
       "\n",
       "                              alments                            ailments  \n",
       "0  ['multiple-sclerosis', 'seizures']  ['multiple-sclerosis'  'seizures']  \n",
       "1              ['muscular-dystrophy']              ['muscular-dystrophy']  \n",
       "2                   ['muscle-spasms']                   ['muscle-spasms']  \n",
       "3       ['gastrointestinal-disorder']       ['gastrointestinal-disorder']  \n",
       "4                ['lack-of-appetite']                ['lack-of-appetite']  "
      ]
     },
     "execution_count": 5,
     "metadata": {},
     "output_type": "execute_result"
    }
   ],
=======
   "execution_count": null,
   "metadata": {},
   "outputs": [],
>>>>>>> 9e3de3f2e93eb3aa2a5c4fbd380866e295e61af6
   "source": [
    "df['ailments'] = df['alments'].str.replace(',', ' ')\n",
    "\n",
    "\n",
    "df.head()"
   ]
  },
  {
   "cell_type": "code",
<<<<<<< HEAD
   "execution_count": 6,
=======
   "execution_count": null,
>>>>>>> 9e3de3f2e93eb3aa2a5c4fbd380866e295e61af6
   "metadata": {},
   "outputs": [],
   "source": [
    "print(spacy.__version__)  "
   ]
  },
  {
   "cell_type": "code",
<<<<<<< HEAD
   "execution_count": 7,
   "metadata": {},
   "outputs": [
    {
     "name": "stdout",
     "output_type": "stream",
     "text": [
      "0.23.2\n"
     ]
    }
   ],
   "source": [
    "print(sklearn.__version__)"
   ]
  },
  {
   "cell_type": "code",
   "execution_count": null,
   "metadata": {},
   "outputs": [],
   "source": []
  },
  {
   "cell_type": "code",
   "execution_count": 8,
=======
   "execution_count": null,
>>>>>>> 9e3de3f2e93eb3aa2a5c4fbd380866e295e61af6
   "metadata": {},
   "outputs": [],
   "source": [
    "nlp = spacy.load(\"en_core_web_lg\")\n",
    "df.head()\n",
    "\n",
    "# The Tokenizer\n",
    "tokenizer = Tokenizer(nlp.vocab)\n",
    "\n",
    "# Make the tokens for description\n",
    "combined_tokens = []\n",
    "for txt in tokenizer.pipe(df['ailments'], batch_size=500):\n",
    "    txt_tokens = [token.text for token in txt]\n",
    "    combined_tokens.append(txt_tokens)\n",
    "df['combined_tokens'] = combined_tokens\n",
    "print(df['combined_tokens'].head())"
   ]
  },
  {
   "cell_type": "code",
   "execution_count": null,
   "metadata": {},
   "outputs": [],
   "source": [
    "def tokenize(document):\n",
    "    \n",
    "    doc = nlp(document)\n",
    "    \n",
    "    return [token.lemma_.strip() for token in doc if (token.is_stop != True) and (token.is_punct != True)]"
   ]
  },
  {
   "cell_type": "code",
   "execution_count": null,
   "metadata": {},
   "outputs": [],
   "source": [
    "# Instantiate vectorizer object\n",
    "tfidf = TfidfVectorizer(stop_words = 'english',\n",
    "                       ngram_range = (1,2),\n",
    "                       max_features = 2000)\n",
    "\n",
    "# Create a vocabulary and tf-idf score per document\n",
    "dtm = tfidf.fit_transform(df['ailments'])\n",
    "                         \n",
    "\n",
    "# Get feature names to use as dataframe column headers\n",
    "dtm = pd.DataFrame(dtm.todense(), columns=tfidf.get_feature_names())\n",
    "nn = NearestNeighbors(n_neighbors=4, algorithm='kd_tree')\n",
    "nn.fit(dtm)\n",
    "\n",
    "\n",
    "# View Feature Matrix as DataFrame\n",
    "print(dtm.shape)\n",
    "dtm.head()"
   ]
  },
  {
   "cell_type": "code",
   "execution_count": null,
<<<<<<< HEAD
   "metadata": {},
   "outputs": [],
   "source": []
  },
  {
   "cell_type": "code",
   "execution_count": 11,
=======
>>>>>>> 9e3de3f2e93eb3aa2a5c4fbd380866e295e61af6
   "metadata": {},
   "outputs": [],
   "source": [
    "dtm.shape"
   ]
  },
  {
   "cell_type": "code",
   "execution_count": null,
   "metadata": {},
   "outputs": [],
   "source": []
  },
  {
   "cell_type": "code",
   "execution_count": null,
   "metadata": {},
   "outputs": [],
   "source": [
    "ideal = [\"\"\"\n",
    "lack-of-appetite,bipolar-disorder,hypertension\n",
    "\"\"\"]\n",
    "\n",
    "# Query the ideal descprition\n",
    "new = tfidf.transform(ideal)\n",
    "new"
   ]
  },
  {
   "cell_type": "code",
   "execution_count": null,
<<<<<<< HEAD
   "metadata": {},
   "outputs": [],
   "source": []
  },
  {
   "cell_type": "code",
   "execution_count": 13,
=======
>>>>>>> 9e3de3f2e93eb3aa2a5c4fbd380866e295e61af6
   "metadata": {},
   "outputs": [],
   "source": [
    "nn.kneighbors(new.todense())"
   ]
  },
  {
   "cell_type": "code",
   "execution_count": null,
   "metadata": {},
   "outputs": [],
   "source": [
    "import pickle\n",
    "# Dump the trained classifier (nn)  with Pickle\n",
    "pickle_filename = 'ailments_model.pkl2'\n",
    "pickled_model = open(pickle_filename, 'wb')  # Open the file to save as pkl file\n",
    "pickle.dump(nn, pickled_model)\n",
    "pickled_model.close() # Close the pickle instances"
   ]
  },
  {
   "cell_type": "code",
   "execution_count": null,
   "metadata": {},
<<<<<<< HEAD
   "outputs": [
    {
     "name": "stdout",
     "output_type": "stream",
     "text": [
      "Loaded model ::  NearestNeighbors(algorithm='kd_tree', n_neighbors=4)\n"
     ]
    }
   ],
=======
   "outputs": [],
>>>>>>> 9e3de3f2e93eb3aa2a5c4fbd380866e295e61af6
   "source": [
    "# Loading the saved model\n",
    "ailments_model_pkl2 = open(pickle_filename, 'rb')\n",
    "ailments_nn_model2 = pickle.load(ailments_model_pkl2)\n",
    "print (\"Loaded model :: \", ailments_nn_model2)  # print to verify"
   ]
  },
  {
   "cell_type": "code",
   "execution_count": null,
   "metadata": {},
   "outputs": [],
   "source": [
    "# Dump the trained classifier (tfidf)  with Pickle\n",
    "pickle_filename_1 = 'ailments_tfidf.pkl2'\n",
    "pickled_model_1 = open(pickle_filename_1, 'wb')  # Open the file to save as pkl file\n",
    "pickle.dump(tfidf, pickled_model_1)\n",
    "pickled_model_1.close() # Close the pickle instances"
   ]
  },
  {
   "cell_type": "code",
<<<<<<< HEAD
   "execution_count": 17,
   "metadata": {},
   "outputs": [
    {
     "name": "stdout",
     "output_type": "stream",
     "text": [
      "Loaded model ::  TfidfVectorizer(max_features=2000, ngram_range=(1, 2), stop_words='english')\n"
     ]
    }
   ],
=======
   "execution_count": null,
   "metadata": {},
   "outputs": [],
>>>>>>> 9e3de3f2e93eb3aa2a5c4fbd380866e295e61af6
   "source": [
    "# Loading the saved model\n",
    "ailments_model_pkl_1 = open(pickle_filename_1, 'rb')\n",
    "ailments_tfidf_model2 = pickle.load(ailments_model_pkl_1)\n",
    "print (\"Loaded model :: \", ailments_tfidf_model2)  # print to verify"
   ]
  },
  {
   "cell_type": "code",
<<<<<<< HEAD
   "execution_count": 18,
   "metadata": {},
   "outputs": [
    {
     "data": {
      "text/plain": [
       "108                             [['inflammation']]\n",
       "271    [['hypertension',  , 'spinal-cord-injury']]\n",
       "34                 [['gastrointestinal-disorder']]\n",
       "97                        [['multiple-sclerosis']]\n",
       "86                              [['eye-pressure']]\n",
       "48                                  [['hiv-aids']]\n",
       "82                        [['spinal-cord-injury']]\n",
       "173                                [['headaches']]\n",
       "262                         [['lack-of-appetite']]\n",
       "141                               [['depression']]\n",
       "Name: combined_tokens, dtype: object"
      ]
     },
     "execution_count": 18,
     "metadata": {},
     "output_type": "execute_result"
    }
   ],
=======
   "execution_count": null,
   "metadata": {},
   "outputs": [],
>>>>>>> 9e3de3f2e93eb3aa2a5c4fbd380866e295e61af6
   "source": [
    "df['combined_tokens'].sample(10)"
   ]
  },
  {
   "cell_type": "code",
<<<<<<< HEAD
   "execution_count": 19,
=======
   "execution_count": null,
>>>>>>> 9e3de3f2e93eb3aa2a5c4fbd380866e295e61af6
   "metadata": {},
   "outputs": [],
   "source": [
    "ideal2 = ['anorexia,muscular-dystropy,insomnia,add-adhd']"
   ]
  },
  {
   "cell_type": "code",
<<<<<<< HEAD
   "execution_count": 20,
   "metadata": {},
   "outputs": [
    {
     "data": {
      "text/plain": [
       "<1x154 sparse matrix of type '<class 'numpy.float64'>'\n",
       "\twith 6 stored elements in Compressed Sparse Row format>"
      ]
     },
     "execution_count": 20,
     "metadata": {},
     "output_type": "execute_result"
    }
   ],
=======
   "execution_count": null,
   "metadata": {},
   "outputs": [],
>>>>>>> 9e3de3f2e93eb3aa2a5c4fbd380866e295e61af6
   "source": [
    "new2 = ailments_tfidf_model2.transform(ideal2)\n",
    "new2"
   ]
  },
  {
   "cell_type": "code",
<<<<<<< HEAD
   "execution_count": 21,
   "metadata": {},
   "outputs": [
    {
     "data": {
      "text/plain": [
       "(array([[0.72857198, 0.72857198, 0.99004848, 0.99461667]]),\n",
       " array([[ 15,  84, 162,  45]]))"
      ]
     },
     "execution_count": 21,
     "metadata": {},
     "output_type": "execute_result"
    }
   ],
=======
   "execution_count": null,
   "metadata": {},
   "outputs": [],
>>>>>>> 9e3de3f2e93eb3aa2a5c4fbd380866e295e61af6
   "source": [
    "ailments_nn_model2.kneighbors(new2.todense())"
   ]
  },
  {
   "cell_type": "code",
<<<<<<< HEAD
   "execution_count": 22,
   "metadata": {},
   "outputs": [
    {
     "data": {
      "text/plain": [
       "'mochi'"
      ]
     },
     "execution_count": 22,
     "metadata": {},
     "output_type": "execute_result"
    }
   ],
=======
   "execution_count": null,
   "metadata": {},
   "outputs": [],
>>>>>>> 9e3de3f2e93eb3aa2a5c4fbd380866e295e61af6
   "source": [
    "df['Strain'][162]"
   ]
  },
  {
   "cell_type": "code",
<<<<<<< HEAD
   "execution_count": 23,
   "metadata": {},
   "outputs": [
    {
     "data": {
      "text/plain": [
       "\"['add-adhd'  'arthritis'  'muscular-dystrophy']\""
      ]
     },
     "execution_count": 23,
     "metadata": {},
     "output_type": "execute_result"
    }
   ],
=======
   "execution_count": null,
   "metadata": {},
   "outputs": [],
>>>>>>> 9e3de3f2e93eb3aa2a5c4fbd380866e295e61af6
   "source": [
    "df['ailments'][162]"
   ]
  },
  {
   "cell_type": "code",
<<<<<<< HEAD
   "execution_count": 24,
=======
   "execution_count": null,
>>>>>>> 9e3de3f2e93eb3aa2a5c4fbd380866e295e61af6
   "metadata": {},
   "outputs": [],
   "source": [
    "import json\n",
    "def recommend(user_input):\n",
    "    temp_df = ailments_nn_model2.kneighbors(ailments_tfidf_model2.transform([user_input]).todense())[1]\n",
    "    \n",
    "\n",
    "    #print(temp_df)\n",
    "    \n",
    "    for i in range(4):\n",
    "        info = df.loc[temp_df[0][i]]['Strain']\n",
    "        info_effects = df.loc[temp_df[0][i]]['Effects']\n",
    "        info_flavor = df.loc[temp_df[0][i]]['Flavor']\n",
    "        info_description = df.loc[temp_df[0][i]]['Description']\n",
    "        info_rating = df.loc[temp_df[0][i]]['Rating']\n",
    "        info_ailments = df.loc[temp_df[0][i]]['ailments']\n",
    "\n",
    "        \n",
    "        print(json.dumps(info))\n",
    "        print(json.dumps(info_ailments))\n",
    "        print(json.dumps(info_effects))\n",
    "        print(json.dumps(info_flavor))\n",
    "        print(json.dumps(info_description))\n",
    "        print(json.dumps(info_rating))\n",
    "        \n",
    "\n",
    "        \n",
    "        #return json.dumps(info)  #for engineeers, the return does not work in jupyter lab.  Should work in vsCode.\n",
    "        #return json.dumps(info_ailments)\n",
    "        #return json.dumps(info_effects)\n",
    "        #return json.dumps(info_flavor)\n",
    "        #return json.dump(info_description)\n",
    "        #return json.dumps(info_rating)\n",
    "        \n"
   ]
  },
  {
   "cell_type": "code",
<<<<<<< HEAD
   "execution_count": 25,
=======
   "execution_count": null,
>>>>>>> 9e3de3f2e93eb3aa2a5c4fbd380866e295e61af6
   "metadata": {},
   "outputs": [],
   "source": [
    "recommend('for arthritis')"
   ]
  },
  {
   "cell_type": "code",
   "execution_count": null,
   "metadata": {},
   "outputs": [],
   "source": []
  }
 ],
 "metadata": {
  "kernelspec": {
   "display_name": "Python 3",
   "language": "python",
   "name": "python3"
  },
  "language_info": {
   "codemirror_mode": {
    "name": "ipython",
    "version": 3
   },
   "file_extension": ".py",
   "mimetype": "text/x-python",
   "name": "python",
   "nbconvert_exporter": "python",
   "pygments_lexer": "ipython3",
   "version": "3.7.6"
  }
 },
 "nbformat": 4,
 "nbformat_minor": 4
}
